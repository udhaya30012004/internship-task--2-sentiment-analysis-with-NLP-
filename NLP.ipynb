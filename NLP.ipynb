{
 "cells": [
  {
   "cell_type": "markdown",
   "id": "0d7ad81f-4bbb-41cd-8782-798d56414ff4",
   "metadata": {},
   "source": [
    "# Sentiment analysis with nlp "
   ]
  },
  {
   "cell_type": "code",
   "execution_count": 2,
   "id": "dfc5fd5c-c5a3-4a5d-8df4-170670d4d5a4",
   "metadata": {},
   "outputs": [],
   "source": [
    "# importing libraries \n"
   ]
  },
  {
   "cell_type": "code",
   "execution_count": 3,
   "id": "b4712798-bbeb-4bf0-8c1c-86b297c84ca5",
   "metadata": {},
   "outputs": [],
   "source": [
    "import numpy as np \n",
    "import pandas as pd \n",
    "import seaborn as sns \n",
    "import matplotlib.pyplot as plt "
   ]
  },
  {
   "cell_type": "code",
   "execution_count": 4,
   "id": "fffa53bf-035a-4643-9ec5-0a4540c51924",
   "metadata": {},
   "outputs": [],
   "source": [
    "# imprt regualr expression library\n",
    "import re"
   ]
  },
  {
   "cell_type": "code",
   "execution_count": 5,
   "id": "4c8d671a-2d27-4d33-a7d9-8c4a79bb7121",
   "metadata": {},
   "outputs": [],
   "source": [
    "# import ml library\n",
    "from sklearn.model_selection import train_test_split\n",
    "from sklearn.linear_model import LogisticRegression\n",
    "from sklearn.metrics import confusion_matrix,accuracy_score,classification_report\n",
    "from sklearn.feature_extraction.text import CountVectorizer"
   ]
  },
  {
   "cell_type": "code",
   "execution_count": 6,
   "id": "517b8ae0-2ec7-4b34-9b5e-a27544de124a",
   "metadata": {},
   "outputs": [],
   "source": [
    "# import nlp libraries \n",
    "import nltk\n",
    "from nltk.tokenize import  word_tokenize\n",
    "from nltk.corpus import stopwords # --> removes common words like ( is , the ,was)\n",
    "from nltk.stem import PorterStemmer #--> changes word to it's root form eg('playing' --> 'play')"
   ]
  },
  {
   "cell_type": "code",
   "execution_count": 7,
   "id": "f3151166-8969-42ee-b868-899fe7196410",
   "metadata": {},
   "outputs": [],
   "source": [
    "df = pd.read_csv('IMDB Dataset.csv')"
   ]
  },
  {
   "cell_type": "code",
   "execution_count": 8,
   "id": "87d6d7c3-1b63-47a7-af78-92cf3c68e72c",
   "metadata": {},
   "outputs": [],
   "source": [
    "df['sentiment'] = df['sentiment'].map({'positive':1,'negative':0})"
   ]
  },
  {
   "cell_type": "markdown",
   "id": "29be1528-685b-4d4f-af69-c0219e69f9c7",
   "metadata": {},
   "source": [
    "# download nltk pacakges"
   ]
  },
  {
   "cell_type": "code",
   "execution_count": 10,
   "id": "d04de784-e3c9-4aed-8c2c-d784e2682328",
   "metadata": {},
   "outputs": [
    {
     "name": "stderr",
     "output_type": "stream",
     "text": [
      "[nltk_data] Downloading package punkt to\n",
      "[nltk_data]     C:\\Users\\udhaya\\AppData\\Roaming\\nltk_data...\n",
      "[nltk_data]   Package punkt is already up-to-date!\n",
      "[nltk_data] Downloading package stopwords to\n",
      "[nltk_data]     C:\\Users\\udhaya\\AppData\\Roaming\\nltk_data...\n",
      "[nltk_data]   Package stopwords is already up-to-date!\n"
     ]
    }
   ],
   "source": [
    "nltk.download('punkt')\n",
    "nltk.download('stopwords')\n",
    "from nltk.tokenize import word_tokenize\n"
   ]
  },
  {
   "cell_type": "markdown",
   "id": "e2d9b7f2-e858-4ff2-9195-fd560287450b",
   "metadata": {},
   "source": [
    "# text pre processing "
   ]
  },
  {
   "cell_type": "code",
   "execution_count": 12,
   "id": "720e19e5-7477-4090-b6aa-cf3fb9e48605",
   "metadata": {},
   "outputs": [],
   "source": [
    "stop_words = set(stopwords.words('english'))"
   ]
  },
  {
   "cell_type": "code",
   "execution_count": 13,
   "id": "da529b44-aed5-47af-947e-931be1c53dcc",
   "metadata": {},
   "outputs": [
    {
     "data": {
      "text/plain": [
       "{'a',\n",
       " 'about',\n",
       " 'above',\n",
       " 'after',\n",
       " 'again',\n",
       " 'against',\n",
       " 'ain',\n",
       " 'all',\n",
       " 'am',\n",
       " 'an',\n",
       " 'and',\n",
       " 'any',\n",
       " 'are',\n",
       " 'aren',\n",
       " \"aren't\",\n",
       " 'as',\n",
       " 'at',\n",
       " 'be',\n",
       " 'because',\n",
       " 'been',\n",
       " 'before',\n",
       " 'being',\n",
       " 'below',\n",
       " 'between',\n",
       " 'both',\n",
       " 'but',\n",
       " 'by',\n",
       " 'can',\n",
       " 'couldn',\n",
       " \"couldn't\",\n",
       " 'd',\n",
       " 'did',\n",
       " 'didn',\n",
       " \"didn't\",\n",
       " 'do',\n",
       " 'does',\n",
       " 'doesn',\n",
       " \"doesn't\",\n",
       " 'doing',\n",
       " 'don',\n",
       " \"don't\",\n",
       " 'down',\n",
       " 'during',\n",
       " 'each',\n",
       " 'few',\n",
       " 'for',\n",
       " 'from',\n",
       " 'further',\n",
       " 'had',\n",
       " 'hadn',\n",
       " \"hadn't\",\n",
       " 'has',\n",
       " 'hasn',\n",
       " \"hasn't\",\n",
       " 'have',\n",
       " 'haven',\n",
       " \"haven't\",\n",
       " 'having',\n",
       " 'he',\n",
       " \"he'd\",\n",
       " \"he'll\",\n",
       " \"he's\",\n",
       " 'her',\n",
       " 'here',\n",
       " 'hers',\n",
       " 'herself',\n",
       " 'him',\n",
       " 'himself',\n",
       " 'his',\n",
       " 'how',\n",
       " 'i',\n",
       " \"i'd\",\n",
       " \"i'll\",\n",
       " \"i'm\",\n",
       " \"i've\",\n",
       " 'if',\n",
       " 'in',\n",
       " 'into',\n",
       " 'is',\n",
       " 'isn',\n",
       " \"isn't\",\n",
       " 'it',\n",
       " \"it'd\",\n",
       " \"it'll\",\n",
       " \"it's\",\n",
       " 'its',\n",
       " 'itself',\n",
       " 'just',\n",
       " 'll',\n",
       " 'm',\n",
       " 'ma',\n",
       " 'me',\n",
       " 'mightn',\n",
       " \"mightn't\",\n",
       " 'more',\n",
       " 'most',\n",
       " 'mustn',\n",
       " \"mustn't\",\n",
       " 'my',\n",
       " 'myself',\n",
       " 'needn',\n",
       " \"needn't\",\n",
       " 'no',\n",
       " 'nor',\n",
       " 'not',\n",
       " 'now',\n",
       " 'o',\n",
       " 'of',\n",
       " 'off',\n",
       " 'on',\n",
       " 'once',\n",
       " 'only',\n",
       " 'or',\n",
       " 'other',\n",
       " 'our',\n",
       " 'ours',\n",
       " 'ourselves',\n",
       " 'out',\n",
       " 'over',\n",
       " 'own',\n",
       " 're',\n",
       " 's',\n",
       " 'same',\n",
       " 'shan',\n",
       " \"shan't\",\n",
       " 'she',\n",
       " \"she'd\",\n",
       " \"she'll\",\n",
       " \"she's\",\n",
       " 'should',\n",
       " \"should've\",\n",
       " 'shouldn',\n",
       " \"shouldn't\",\n",
       " 'so',\n",
       " 'some',\n",
       " 'such',\n",
       " 't',\n",
       " 'than',\n",
       " 'that',\n",
       " \"that'll\",\n",
       " 'the',\n",
       " 'their',\n",
       " 'theirs',\n",
       " 'them',\n",
       " 'themselves',\n",
       " 'then',\n",
       " 'there',\n",
       " 'these',\n",
       " 'they',\n",
       " \"they'd\",\n",
       " \"they'll\",\n",
       " \"they're\",\n",
       " \"they've\",\n",
       " 'this',\n",
       " 'those',\n",
       " 'through',\n",
       " 'to',\n",
       " 'too',\n",
       " 'under',\n",
       " 'until',\n",
       " 'up',\n",
       " 've',\n",
       " 'very',\n",
       " 'was',\n",
       " 'wasn',\n",
       " \"wasn't\",\n",
       " 'we',\n",
       " \"we'd\",\n",
       " \"we'll\",\n",
       " \"we're\",\n",
       " \"we've\",\n",
       " 'were',\n",
       " 'weren',\n",
       " \"weren't\",\n",
       " 'what',\n",
       " 'when',\n",
       " 'where',\n",
       " 'which',\n",
       " 'while',\n",
       " 'who',\n",
       " 'whom',\n",
       " 'why',\n",
       " 'will',\n",
       " 'with',\n",
       " 'won',\n",
       " \"won't\",\n",
       " 'wouldn',\n",
       " \"wouldn't\",\n",
       " 'y',\n",
       " 'you',\n",
       " \"you'd\",\n",
       " \"you'll\",\n",
       " \"you're\",\n",
       " \"you've\",\n",
       " 'your',\n",
       " 'yours',\n",
       " 'yourself',\n",
       " 'yourselves'}"
      ]
     },
     "execution_count": 13,
     "metadata": {},
     "output_type": "execute_result"
    }
   ],
   "source": [
    "stop_words"
   ]
  },
  {
   "cell_type": "code",
   "execution_count": 205,
   "id": "5849ca72-6db9-4fe3-9a48-517134bddccb",
   "metadata": {},
   "outputs": [
    {
     "data": {
      "text/plain": [
       "198"
      ]
     },
     "execution_count": 205,
     "metadata": {},
     "output_type": "execute_result"
    }
   ],
   "source": [
    "len(stop_words)"
   ]
  },
  {
   "cell_type": "code",
   "execution_count": 14,
   "id": "b6df2338-e729-4bc4-b15c-894f8b990719",
   "metadata": {},
   "outputs": [],
   "source": [
    "stemmer = PorterStemmer()"
   ]
  },
  {
   "cell_type": "code",
   "execution_count": 15,
   "id": "ad3b7c77-0f1f-4b60-a077-d39564146137",
   "metadata": {},
   "outputs": [],
   "source": [
    "def clean_text(text):\n",
    "    text = text.lower()\n",
    "    text = re.sub(r'[^\\w\\s]','',text) # removes punctuations \n",
    "    words = word_tokenize(text)\n",
    "    filtered_words = []\n",
    "    for w in words:\n",
    "        if w.isalpha() and w not in stop_words:\n",
    "            filtered_words.append(stemmer.stem(w))\n",
    "    return ' '.join(filtered_words)\n",
    "    \n"
   ]
  },
  {
   "cell_type": "markdown",
   "id": "9c1213ee-65d0-4144-a470-e3bf32afd3f7",
   "metadata": {},
   "source": [
    "# now appying above function in review columns"
   ]
  },
  {
   "cell_type": "code",
   "execution_count": 17,
   "id": "86418cf0-c2dc-47c2-8949-59f361b910da",
   "metadata": {},
   "outputs": [],
   "source": [
    "\n",
    "df['review'] = df['review'].apply(clean_text)"
   ]
  },
  {
   "cell_type": "code",
   "execution_count": 36,
   "id": "de1019ba-c7ee-4f7a-adac-212297846474",
   "metadata": {},
   "outputs": [],
   "source": [
    "x = df['review']\n",
    "y = df['sentiment']"
   ]
  },
  {
   "cell_type": "code",
   "execution_count": 38,
   "id": "e050ce78-4ade-459d-b5d0-6d3f54ed8853",
   "metadata": {},
   "outputs": [],
   "source": [
    "x_train,x_test,y_train,y_test = train_test_split(x,y,test_size = 0.2,random_state = 42)"
   ]
  },
  {
   "cell_type": "markdown",
   "id": "5f2189a2-7987-454d-a435-72adbeddac73",
   "metadata": {},
   "source": [
    "# now using TFID - vectorizer"
   ]
  },
  {
   "cell_type": "code",
   "execution_count": 145,
   "id": "6dafe3f2-309a-439d-b313-0a982db61c05",
   "metadata": {},
   "outputs": [],
   "source": [
    "from sklearn.feature_extraction.text import TfidfVectorizer"
   ]
  },
  {
   "cell_type": "code",
   "execution_count": 149,
   "id": "6931dc0b-8472-415a-a3e7-9fae67a98ed4",
   "metadata": {},
   "outputs": [],
   "source": [
    "tfidf = TfidfVectorizer(max_features=5000)\n",
    "x_train_tfidf = tfidf.fit_transform(x_train)\n",
    "x_test_tfidf = tfidf.transform(x_test)"
   ]
  },
  {
   "cell_type": "markdown",
   "id": "e77e4488-3f35-4baa-8b71-3617fb88eaa1",
   "metadata": {},
   "source": [
    "# Logistic regression "
   ]
  },
  {
   "cell_type": "code",
   "execution_count": 151,
   "id": "659660e4-d3be-4ae0-9f6d-927c0cd6b6e9",
   "metadata": {},
   "outputs": [],
   "source": [
    "model = LogisticRegression(max_iter = 10000000000)\n",
    "model.fit(x_train_tfidf,y_train)\n",
    "y_predict = model.predict(x_test_tfidf)"
   ]
  },
  {
   "cell_type": "code",
   "execution_count": 184,
   "id": "7f9ba076-c7c8-45fa-9e69-0f7f2f55c716",
   "metadata": {},
   "outputs": [
    {
     "name": "stdout",
     "output_type": "stream",
     "text": [
      "0.8853\n"
     ]
    }
   ],
   "source": [
    "# accuracy_score\n",
    "print(accuracy_score(y_predict,y_test))"
   ]
  },
  {
   "cell_type": "code",
   "execution_count": 186,
   "id": "2656fa01-229b-4c36-b92a-e8724ee11549",
   "metadata": {},
   "outputs": [
    {
     "name": "stdout",
     "output_type": "stream",
     "text": [
      "confusion matrix [[4306  492]\n",
      " [ 655 4547]]\n"
     ]
    }
   ],
   "source": [
    "# confusion_matrix\n",
    "print('confusion matrix',confusion_matrix(y_predict,y_test))"
   ]
  },
  {
   "cell_type": "code",
   "execution_count": 188,
   "id": "9566b6eb-443f-46c6-b2e6-a8b19109f242",
   "metadata": {},
   "outputs": [
    {
     "name": "stdout",
     "output_type": "stream",
     "text": [
      "              precision    recall  f1-score   support\n",
      "\n",
      "           0       0.87      0.90      0.88      4798\n",
      "           1       0.90      0.87      0.89      5202\n",
      "\n",
      "    accuracy                           0.89     10000\n",
      "   macro avg       0.89      0.89      0.89     10000\n",
      "weighted avg       0.89      0.89      0.89     10000\n",
      "\n"
     ]
    }
   ],
   "source": [
    "# calssification_report\n",
    "print(classification_report(y_predict,y_test))"
   ]
  },
  {
   "cell_type": "code",
   "execution_count": 157,
   "id": "71c7e310-1837-4b1e-80ef-430a0ca527ad",
   "metadata": {},
   "outputs": [
    {
     "data": {
      "text/plain": [
       "(10000,)"
      ]
     },
     "execution_count": 157,
     "metadata": {},
     "output_type": "execute_result"
    }
   ],
   "source": [
    "y_predict.shape"
   ]
  },
  {
   "cell_type": "markdown",
   "id": "8e42038e-efa5-45bf-96e6-bc2754c30c0b",
   "metadata": {},
   "source": [
    "# visualization "
   ]
  },
  {
   "cell_type": "code",
   "execution_count": 195,
   "id": "15853f5d-524c-4eec-bfb7-5114c12a64d4",
   "metadata": {},
   "outputs": [
    {
     "data": {
      "image/png": "[encoded data removed]",
      "text/plain": [
       "<Figure size 640x480 with 2 Axes>"
      ]
     },
     "metadata": {},
     "output_type": "display_data"
    }
   ],
   "source": [
    "conf_matrix = confusion_matrix(y_predict,y_test)\n",
    "sns.heatmap(conf_matrix, annot=True, fmt='d', cmap='Reds')\n",
    "plt.xlabel('Predicted')\n",
    "plt.ylabel('Actual')\n",
    "plt.title('Confusion Matrix')\n",
    "plt.show()"
   ]
  },
  {
   "cell_type": "code",
   "execution_count": 197,
   "id": "56052f0b-87d9-4483-b41e-b60917e12e2a",
   "metadata": {},
   "outputs": [
    {
     "data": {
      "image/png": "[encoded data removed]",
      "text/plain": [
       "<Figure size 640x480 with 1 Axes>"
      ]
     },
     "metadata": {},
     "output_type": "display_data"
    }
   ],
   "source": [
    "df['sentiment'].value_counts().plot(kind='pie', autopct='%1.1f%%', labels=['Negative', 'Positive'], colors=['red', 'green'])\n",
    "plt.title(\"Sentiment Proportion\")\n",
    "plt.ylabel(\"\")  # Hides the y-label\n",
    "plt.show()\n"
   ]
  },
  {
   "cell_type": "markdown",
   "id": "8871c276-e2c6-4fb7-a810-46f8d401eeea",
   "metadata": {},
   "source": [
    "# lets test with unseen data "
   ]
  },
  {
   "cell_type": "code",
   "execution_count": 172,
   "id": "5391cc0b-4a70-451e-9577-52d36d705231",
   "metadata": {},
   "outputs": [],
   "source": [
    "new_review = 'The Midnight Library\" is a hauntingly beautiful film that blends fantasy with deep philosophical themes. The story follows Nora, a woman stuck in despair, who finds herself in a mysterious library where each book represents a different life she could have lived. The cinematography is stunning, with dreamlike visuals that capture the surreal transitions between worlds. Carey Mulligan delivers a powerful performance as Nora, effortlessly portraying the emotional weight of regret, hope, and rediscovery. The pacing is slow at times, but it allows the emotional beats to land more effectively. Overall, \"The Midnight Library\" is a thought-provoking journey that stays with you long after the credits roll.'"
   ]
  },
  {
   "cell_type": "code",
   "execution_count": 174,
   "id": "703e2892-08ee-4599-8712-996af92d9e1b",
   "metadata": {},
   "outputs": [
    {
     "name": "stdout",
     "output_type": "stream",
     "text": [
      "<class 'str'>\n"
     ]
    }
   ],
   "source": [
    "print(type(new_review))"
   ]
  },
  {
   "cell_type": "code",
   "execution_count": 176,
   "id": "d5e42e1b-ea58-4c03-bdc3-c37c0bbf4d9b",
   "metadata": {},
   "outputs": [],
   "source": [
    "processed_text = clean_text(new_review)\n",
    "new_review_tfdif = tfidf.transform([processed_text]) # here we should provide new processed text in list form only"
   ]
  },
  {
   "cell_type": "code",
   "execution_count": 178,
   "id": "36744ea7-b9bc-4e89-b0ab-a151955b27e5",
   "metadata": {},
   "outputs": [],
   "source": [
    "new_pred = model.predict(new_review_tfdif)"
   ]
  },
  {
   "cell_type": "code",
   "execution_count": 180,
   "id": "ad620a64-67a3-484b-934a-09b9b699ecea",
   "metadata": {},
   "outputs": [
    {
     "name": "stdout",
     "output_type": "stream",
     "text": [
      "Sentiment: Positive 😊\n"
     ]
    }
   ],
   "source": [
    "\n",
    "if new_pred[0] == 1:\n",
    "    print(\"Sentiment: Positive 😊\")\n",
    "else:\n",
    "    print(\"Sentiment: Negative 😞\")"
   ]
  },
  {
   "cell_type": "code",
   "execution_count": null,
   "id": "ab417c69-cee6-4928-b3ef-9a507b29e076",
   "metadata": {},
   "outputs": [],
   "source": []
  }
 ],
 "metadata": {
  "kernelspec": {
   "display_name": "Python 3 (ipykernel)",
   "language": "python",
   "name": "python3"
  },
  "language_info": {
   "codemirror_mode": {
    "name": "ipython",
    "version": 3
   },
   "file_extension": ".py",
   "mimetype": "text/x-python",
   "name": "python",
   "nbconvert_exporter": "python",
   "pygments_lexer": "ipython3",
   "version": "3.12.7"
  }
 },
 "nbformat": 4,
 "nbformat_minor": 5
}
